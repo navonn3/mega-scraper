{
 "cells": [
  {
   "cell_type": "code",
   "execution_count": 1,
   "id": "e46b2807-0937-4e7a-a8fc-cf50a9fc93fb",
   "metadata": {},
   "outputs": [],
   "source": [
    "import pandas as pd\n",
    "\n",
    "# קריאת הקובץ המקורי\n",
    "df = pd.read_csv(\"games_schedule.csv\")\n",
    "\n",
    "# הוספת עמודה חדשה בראש\n",
    "df.insert(0, \"league_id\", 1)\n",
    "\n",
    "# שמירת הקובץ המעודכן\n",
    "df.to_csv(\"games_schedule.csv_updated.csv\", index=False, encoding='utf-8-sig')\n"
   ]
  }
 ],
 "metadata": {
  "kernelspec": {
   "display_name": "Python 3 (ipykernel)",
   "language": "python",
   "name": "python3"
  },
  "language_info": {
   "codemirror_mode": {
    "name": "ipython",
    "version": 3
   },
   "file_extension": ".py",
   "mimetype": "text/x-python",
   "name": "python",
   "nbconvert_exporter": "python",
   "pygments_lexer": "ipython3",
   "version": "3.12.1"
  }
 },
 "nbformat": 4,
 "nbformat_minor": 5
}
